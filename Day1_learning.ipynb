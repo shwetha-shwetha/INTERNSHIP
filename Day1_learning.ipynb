{
  "nbformat": 4,
  "nbformat_minor": 0,
  "metadata": {
    "colab": {
      "provenance": []
    },
    "kernelspec": {
      "name": "python3",
      "display_name": "Python 3"
    },
    "language_info": {
      "name": "python"
    }
  },
  "cells": [
    {
      "cell_type": "code",
      "execution_count": null,
      "metadata": {
        "colab": {
          "base_uri": "https://localhost:8080/"
        },
        "id": "mFhFZSTmYf_c",
        "outputId": "d1a5c08f-5b23-4533-9645-07ca54cb02e6"
      },
      "outputs": [
        {
          "output_type": "stream",
          "name": "stdout",
          "text": [
            "Enter the first element in the tuple\n",
            "apple\n",
            "Enter the last element in the tuple\n",
            "kiwi\n",
            "('banana', 'mango')\n"
          ]
        }
      ],
      "source": [
        "#TUPLES\n",
        "tuple1=tuple(['apple','orange','banana','mango','kiwi'])\n",
        "print(\"Enter the first element in the tuple\")\n",
        "print(tuple1[0])\n",
        "print(\"Enter the last element in the tuple\")\n",
        "print(tuple1[-1])\n",
        "print(tuple1[2:4])"
      ]
    },
    {
      "cell_type": "code",
      "source": [
        "#SETS\n",
        "set1 = set()\n",
        "print(\"Empty set:\")\n",
        "print(set1)\n",
        "set1 = set(\"BEGINNING\")\n",
        "print(\"\\nset with the use of string\")\n",
        "print(set1)\n",
        "set1 = set([1,-3,0,'SHWETHA','RIA'])\n",
        "print(\"\\nSet with mixed values:\")\n",
        "print(set1)"
      ],
      "metadata": {
        "colab": {
          "base_uri": "https://localhost:8080/"
        },
        "id": "i6A-RZ3_cR0q",
        "outputId": "4a53228c-6545-4d42-d801-1f093f36b4a7"
      },
      "execution_count": null,
      "outputs": [
        {
          "output_type": "stream",
          "name": "stdout",
          "text": [
            "Empty set:\n",
            "set()\n",
            "\n",
            "set with the use of string\n",
            "{'E', 'B', 'G', 'N', 'I'}\n",
            "\n",
            "Set with mixed values:\n",
            "{0, 1, 'RIA', 'SHWETHA', -3}\n"
          ]
        }
      ]
    },
    {
      "cell_type": "code",
      "source": [
        "#DICTIONARY\n",
        "my_dict= {}\n",
        "print(\"Empty dictionary\")\n",
        "print(my_dict)\n",
        "my_dict = {1: 'apple', 2: 'orange'}\n",
        "print(\"\\nDictionary with integer keys\")\n",
        "print(my_dict)\n",
        "my_dict = {'name' : 'Shwetha', 1 : [2,3,4]}\n",
        "print(\"\\nDictionary with mixed keys\")\n",
        "print(my_dict)\n",
        "print(\"\\n Length of the keys\")\n",
        "print(len(my_dict))\n",
        "my_dict = dict([(1,'apple'),(2,'orange')])\n",
        "print(\"\\nsequence having each item as a pair\")\n",
        "print(my_dict)\n",
        "\n"
      ],
      "metadata": {
        "colab": {
          "base_uri": "https://localhost:8080/"
        },
        "id": "2ymCAVG-hV5i",
        "outputId": "b9b10a7a-399c-4df5-ae46-92a8128c9f06"
      },
      "execution_count": null,
      "outputs": [
        {
          "output_type": "stream",
          "name": "stdout",
          "text": [
            "Empty dictionary\n",
            "{}\n",
            "\n",
            "Dictionary with integer keys\n",
            "{1: 'apple', 2: 'orange'}\n",
            "\n",
            "Dictionary with mixed keys\n",
            "{'name': 'Shwetha', 1: [2, 3, 4]}\n",
            "\n",
            " Length of the keys\n",
            "2\n",
            "\n",
            "sequence having each item as a pair\n",
            "{1: 'apple', 2: 'orange'}\n"
          ]
        }
      ]
    },
    {
      "cell_type": "code",
      "source": [
        "#OOPS\n",
        "#class and objects\n",
        "\n",
        "class Animal:\n",
        "\n",
        "  #class attribute\n",
        "  name = \"\"\n",
        "  age = 0\n",
        "\n",
        "  #create dog1 object\n",
        "dog1 = Animal()\n",
        "dog1.name = \"Labrador\"\n",
        "dog1.age = 2\n",
        "\n",
        "  #create another object dog2\n",
        "dog2 = Animal()\n",
        "dog2.name = \"Pug\"\n",
        "dog2.age = 3\n",
        "\n",
        "  #access attributes\n",
        "print(f\"{dog1.name} is {dog1.age} years old\")\n",
        "print(f\"{dog2.name} is {dog2.age} years old\")"
      ],
      "metadata": {
        "colab": {
          "base_uri": "https://localhost:8080/"
        },
        "id": "rBrIyUOWlK93",
        "outputId": "a779ffd3-c015-4d0c-9c22-8dc03eabe0c7"
      },
      "execution_count": null,
      "outputs": [
        {
          "output_type": "stream",
          "name": "stdout",
          "text": [
            "Labrador is 2 years old\n",
            "Pug is 3 years old\n"
          ]
        }
      ]
    },
    {
      "cell_type": "code",
      "source": [
        "#Inheritance\n",
        "# base class\n",
        "class Animal:\n",
        "\n",
        "    def eat(self):\n",
        "        print( \"I can eat!\")\n",
        "\n",
        "    def sleep(self):\n",
        "        print(\"I can sleep!\")\n",
        "\n",
        "# derived class\n",
        "class Dog(Animal):\n",
        "\n",
        "    def bark(self):\n",
        "        print(\"I can bark! Woof woof!!\")\n",
        "\n",
        "# Create object of the Dog class\n",
        "dog1 = Dog()\n",
        "\n",
        "# Calling members of the base class\n",
        "dog1.eat()\n",
        "dog1.sleep()\n",
        "\n",
        "# Calling member of the derived class\n",
        "dog1.bark();\n"
      ],
      "metadata": {
        "colab": {
          "base_uri": "https://localhost:8080/"
        },
        "id": "y7BHkSk3n5zK",
        "outputId": "3764bb98-1359-4618-b71a-f4df9b51a890"
      },
      "execution_count": null,
      "outputs": [
        {
          "output_type": "stream",
          "name": "stdout",
          "text": [
            "I can eat!\n",
            "I can sleep!\n",
            "I can bark! Woof woof!!\n"
          ]
        }
      ]
    },
    {
      "cell_type": "code",
      "source": [
        "#polymorphism\n",
        "class Bird:\n",
        "  def intro(self):\n",
        "    print(\"There are many types of birds.\")\n",
        "\n",
        "  def flight(self):\n",
        "    print(\"Most of the birds can fly but some cannot.\")\n",
        "\n",
        "class sparrow(Bird):\n",
        "  def flight(self):\n",
        "    print(\"Sparrows can fly.\")\n",
        "\n",
        "class ostrich(Bird):\n",
        "  def flight(self):\n",
        "    print(\"Ostriches cannot fly.\")\n",
        "\n",
        "obj1= Bird()\n",
        "obj2 = sparrow()\n",
        "obj3= ostrich()\n",
        "\n",
        "obj1.intro()\n",
        "obj1.flight()\n",
        "\n",
        "obj2.intro()\n",
        "obj2.flight()\n",
        "\n",
        "obj3.intro()\n",
        "obj3.flight()\n"
      ],
      "metadata": {
        "colab": {
          "base_uri": "https://localhost:8080/"
        },
        "id": "7t9F2fDhplIv",
        "outputId": "ecba1db3-7eb2-422b-f540-095f0fc00ef6"
      },
      "execution_count": 9,
      "outputs": [
        {
          "output_type": "stream",
          "name": "stdout",
          "text": [
            "There are many types of birds.\n",
            "Most of the birds can fly but some cannot.\n",
            "There are many types of birds.\n",
            "Sparrows can fly.\n",
            "There are many types of birds.\n",
            "Ostriches cannot fly.\n"
          ]
        }
      ]
    },
    {
      "cell_type": "code",
      "source": [
        "#Abstraction\n",
        "from abc import ABC, abstractmethod\n",
        "\n",
        "class Animal:\n",
        "  def move(self):\n",
        "    pass\n",
        "\n",
        "class Human(Animal):\n",
        "  def move(self):\n",
        "    print(\"Humans can walk and run\")\n",
        "\n",
        "class Snake(Animal):\n",
        "  def move(self):\n",
        "    print(\"Snakes can crawl\")\n",
        "\n",
        "class Dog(Animal):\n",
        "  def move(self):\n",
        "    print(\"Dogs can bark\")\n",
        "\n",
        "H = Human()\n",
        "H.move()\n",
        "\n",
        "S = Snake()\n",
        "S.move()\n",
        "\n",
        "D = Dog()\n",
        "D.move()"
      ],
      "metadata": {
        "colab": {
          "base_uri": "https://localhost:8080/"
        },
        "id": "24lrPHPD4sBF",
        "outputId": "873b18d6-81ab-4876-ac64-094e86a77723"
      },
      "execution_count": 11,
      "outputs": [
        {
          "output_type": "stream",
          "name": "stdout",
          "text": [
            "Humans can walk and run\n",
            "Snakes can crawl\n",
            "Dogs can bark\n"
          ]
        }
      ]
    },
    {
      "cell_type": "code",
      "source": [
        "\n",
        "#ENCAPSULATION\n",
        "class Computer:\n",
        "\n",
        "    def __init__(self):\n",
        "        self.__maxprice = 900\n",
        "\n",
        "    def sell(self):\n",
        "        print(\"Selling Price: {}\".format(self.__maxprice))\n",
        "\n",
        "    def setMaxPrice(self, price):\n",
        "        self.__maxprice = price\n",
        "\n",
        "c = Computer()\n",
        "c.sell()\n",
        "\n",
        "# change the price\n",
        "c.__maxprice = 1000\n",
        "c.sell()\n",
        "\n",
        "# using setter function\n",
        "c.setMaxPrice(1000)\n",
        "c.sell()"
      ],
      "metadata": {
        "colab": {
          "base_uri": "https://localhost:8080/"
        },
        "id": "CPk2r_9B7h1T",
        "outputId": "ecc4d91c-513b-4ff3-bc1c-ae1a8d5e15eb"
      },
      "execution_count": 12,
      "outputs": [
        {
          "output_type": "stream",
          "name": "stdout",
          "text": [
            "Selling Price: 900\n",
            "Selling Price: 900\n",
            "Selling Price: 1000\n"
          ]
        }
      ]
    }
  ]
}